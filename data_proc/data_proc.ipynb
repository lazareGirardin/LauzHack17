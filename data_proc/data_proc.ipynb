{
 "cells": [
  {
   "cell_type": "code",
   "execution_count": 1,
   "metadata": {
    "collapsed": true
   },
   "outputs": [],
   "source": [
    "import os\n",
    "import pandas as pd"
   ]
  },
  {
   "cell_type": "code",
   "execution_count": 2,
   "metadata": {
    "collapsed": true
   },
   "outputs": [],
   "source": [
    "path = 'data/'\n",
    "files_names = os.listdir(path)"
   ]
  },
  {
   "cell_type": "code",
   "execution_count": 57,
   "metadata": {
    "collapsed": true
   },
   "outputs": [],
   "source": [
    "pd1 = pd.read_csv(path + files_names[0], index_col='City').drop(\n",
    "    ['Date', 'Per capita', 'Source', 'Notes'], axis=1)\n",
    "pd1['id'] = files_names[0] * len(pd1)\n",
    "pd2 = pd.read_csv(path + files_names[1], index_col='City').drop(\n",
    "    ['Date', 'Per capita', 'Source', 'Notes'], axis=1)\n",
    "pd2['id'] = files_names[1] * len(pd2)\n",
    "pd3 = pd.read_csv(path + files_names[2], index_col='City').drop(\n",
    "    ['Date', 'Per capita', 'Source', 'Notes'], axis=1)\n",
    "pd3['id'] = files_names[2] * len(pd3)"
   ]
  },
  {
   "cell_type": "code",
   "execution_count": 58,
   "metadata": {},
   "outputs": [
    {
     "data": {
      "text/plain": [
       "33"
      ]
     },
     "execution_count": 58,
     "metadata": {},
     "output_type": "execute_result"
    }
   ],
   "source": [
    "len(pd2)"
   ]
  },
  {
   "cell_type": "code",
   "execution_count": 59,
   "metadata": {},
   "outputs": [
    {
     "data": {
      "text/html": [
       "<div>\n",
       "<style>\n",
       "    .dataframe thead tr:only-child th {\n",
       "        text-align: right;\n",
       "    }\n",
       "\n",
       "    .dataframe thead th {\n",
       "        text-align: left;\n",
       "    }\n",
       "\n",
       "    .dataframe tbody tr th {\n",
       "        vertical-align: top;\n",
       "    }\n",
       "</style>\n",
       "<table border=\"1\" class=\"dataframe\">\n",
       "  <thead>\n",
       "    <tr style=\"text-align: right;\">\n",
       "      <th></th>\n",
       "      <th>Figure</th>\n",
       "      <th>id</th>\n",
       "      <th>Figure</th>\n",
       "      <th>id</th>\n",
       "    </tr>\n",
       "  </thead>\n",
       "  <tbody>\n",
       "    <tr>\n",
       "      <th>Amsterdam</th>\n",
       "      <td>353.0</td>\n",
       "      <td>Number_of_films_given_theatrical_release_in_th...</td>\n",
       "      <td>447,0%</td>\n",
       "      <td>Number_of_international_tourists_per_year_as_%...</td>\n",
       "    </tr>\n",
       "    <tr>\n",
       "      <th>Austin</th>\n",
       "      <td>738.0</td>\n",
       "      <td>Number_of_films_given_theatrical_release_in_th...</td>\n",
       "      <td>NaN</td>\n",
       "      <td>NaN</td>\n",
       "    </tr>\n",
       "    <tr>\n",
       "      <th>Berlin</th>\n",
       "      <td>508.0</td>\n",
       "      <td>Number_of_films_given_theatrical_release_in_th...</td>\n",
       "      <td>83,0%</td>\n",
       "      <td>Number_of_international_tourists_per_year_as_%...</td>\n",
       "    </tr>\n",
       "    <tr>\n",
       "      <th>Bogotá</th>\n",
       "      <td>218.0</td>\n",
       "      <td>Number_of_films_given_theatrical_release_in_th...</td>\n",
       "      <td>12,8%</td>\n",
       "      <td>Number_of_international_tourists_per_year_as_%...</td>\n",
       "    </tr>\n",
       "    <tr>\n",
       "      <th>Brussels</th>\n",
       "      <td>NaN</td>\n",
       "      <td>NaN</td>\n",
       "      <td>22,4%</td>\n",
       "      <td>Number_of_international_tourists_per_year_as_%...</td>\n",
       "    </tr>\n",
       "  </tbody>\n",
       "</table>\n",
       "</div>"
      ],
      "text/plain": [
       "          Figure                                                 id  Figure  \\\n",
       "Amsterdam  353.0  Number_of_films_given_theatrical_release_in_th...  447,0%   \n",
       "Austin     738.0  Number_of_films_given_theatrical_release_in_th...     NaN   \n",
       "Berlin     508.0  Number_of_films_given_theatrical_release_in_th...   83,0%   \n",
       "Bogotá     218.0  Number_of_films_given_theatrical_release_in_th...   12,8%   \n",
       "Brussels     NaN                                                NaN   22,4%   \n",
       "\n",
       "                                                          id  \n",
       "Amsterdam  Number_of_international_tourists_per_year_as_%...  \n",
       "Austin                                                   NaN  \n",
       "Berlin     Number_of_international_tourists_per_year_as_%...  \n",
       "Bogotá     Number_of_international_tourists_per_year_as_%...  \n",
       "Brussels   Number_of_international_tourists_per_year_as_%...  "
      ]
     },
     "execution_count": 59,
     "metadata": {},
     "output_type": "execute_result"
    }
   ],
   "source": [
    "pd.concat([pd1, pd2], axis=1).head()"
   ]
  },
  {
   "cell_type": "code",
   "execution_count": 3,
   "metadata": {
    "collapsed": true
   },
   "outputs": [],
   "source": [
    "def group_dfs(lst_df):\n",
    "    dfs = []\n",
    "    for i in range(0, len(lst_df)):\n",
    "        pdi = pd.read_csv(path + lst_df[i], index_col='City').drop(\n",
    "            ['Date', 'Per capita', 'Source', 'Notes'], axis=1)\n",
    "        pdi['id'] = files_names[i] * len(pd1)\n",
    "        print(\"looking at {} with len {}\".format(files_names[i], len(pdi)))\n",
    "        while len(pdi) < 36:\n",
    "            pdi = pdi.append({'Figure':None, 'id': None}, ignore_index=True)\n",
    "        if len(pdi) == 36:\n",
    "            print(\"ok\")\n",
    "            dfs.append(pdi)\n",
    "            print(len(dfs))\n",
    "        else:\n",
    "            print(\"pass\")\n",
    "            pass\n",
    "    return pd.concat(dfs, axis=1)"
   ]
  },
  {
   "cell_type": "code",
   "execution_count": 4,
   "metadata": {
    "scrolled": false
   },
   "outputs": [
    {
     "ename": "NameError",
     "evalue": "name 'pd1' is not defined",
     "output_type": "error",
     "traceback": [
      "\u001b[0;31m---------------------------------------------------------------------------\u001b[0m",
      "\u001b[0;31mNameError\u001b[0m                                 Traceback (most recent call last)",
      "\u001b[0;32m<ipython-input-4-858cc87a29de>\u001b[0m in \u001b[0;36m<module>\u001b[0;34m()\u001b[0m\n\u001b[0;32m----> 1\u001b[0;31m \u001b[0mbig_df\u001b[0m \u001b[0;34m=\u001b[0m \u001b[0mgroup_dfs\u001b[0m\u001b[0;34m(\u001b[0m\u001b[0mfiles_names\u001b[0m\u001b[0;34m)\u001b[0m\u001b[0;34m\u001b[0m\u001b[0m\n\u001b[0m",
      "\u001b[0;32m<ipython-input-3-537c393ee589>\u001b[0m in \u001b[0;36mgroup_dfs\u001b[0;34m(lst_df)\u001b[0m\n\u001b[1;32m      4\u001b[0m         pdi = pd.read_csv(path + lst_df[i], index_col='City').drop(\n\u001b[1;32m      5\u001b[0m             ['Date', 'Per capita', 'Source', 'Notes'], axis=1)\n\u001b[0;32m----> 6\u001b[0;31m         \u001b[0mpdi\u001b[0m\u001b[0;34m[\u001b[0m\u001b[0;34m'id'\u001b[0m\u001b[0;34m]\u001b[0m \u001b[0;34m=\u001b[0m \u001b[0mfiles_names\u001b[0m\u001b[0;34m[\u001b[0m\u001b[0mi\u001b[0m\u001b[0;34m]\u001b[0m \u001b[0;34m*\u001b[0m \u001b[0mlen\u001b[0m\u001b[0;34m(\u001b[0m\u001b[0mpd1\u001b[0m\u001b[0;34m)\u001b[0m\u001b[0;34m\u001b[0m\u001b[0m\n\u001b[0m\u001b[1;32m      7\u001b[0m         \u001b[0mprint\u001b[0m\u001b[0;34m(\u001b[0m\u001b[0;34m\"looking at {} with len {}\"\u001b[0m\u001b[0;34m.\u001b[0m\u001b[0mformat\u001b[0m\u001b[0;34m(\u001b[0m\u001b[0mfiles_names\u001b[0m\u001b[0;34m[\u001b[0m\u001b[0mi\u001b[0m\u001b[0;34m]\u001b[0m\u001b[0;34m,\u001b[0m \u001b[0mlen\u001b[0m\u001b[0;34m(\u001b[0m\u001b[0mpdi\u001b[0m\u001b[0;34m)\u001b[0m\u001b[0;34m)\u001b[0m\u001b[0;34m)\u001b[0m\u001b[0;34m\u001b[0m\u001b[0m\n\u001b[1;32m      8\u001b[0m         \u001b[0;32mwhile\u001b[0m \u001b[0mlen\u001b[0m\u001b[0;34m(\u001b[0m\u001b[0mpdi\u001b[0m\u001b[0;34m)\u001b[0m \u001b[0;34m<\u001b[0m \u001b[0;36m36\u001b[0m\u001b[0;34m:\u001b[0m\u001b[0;34m\u001b[0m\u001b[0m\n",
      "\u001b[0;31mNameError\u001b[0m: name 'pd1' is not defined"
     ]
    }
   ],
   "source": [
    "big_df = group_dfs(files_names)"
   ]
  },
  {
   "cell_type": "code",
   "execution_count": 9,
   "metadata": {
    "collapsed": true
   },
   "outputs": [],
   "source": [
    "unesco = pd.read_csv(path + 'UNESCO_World_Heritage_Sites_170908.csv').drop(\n",
    "    ['Date', 'Per capita', 'Source', 'Notes'], axis=1)\n",
    "heritage = pd.read_csv(path + 'Number_of_other_Heritage_Historical_sites_170908.csv').drop(\n",
    "    ['Date', 'Per capita', 'Source', 'Notes'], axis=1)\n",
    "museums = pd.read_csv(path + 'Total_museums_161221.csv').drop(\n",
    "    ['Date', 'Per capita', 'Source', 'Notes'], axis=1)\n",
    "parks_percent = pd.read_csv(path + '%_of_public_green_space_(parks_and_gardens)_170307.csv').drop(\n",
    "    ['Date', 'Per capita', 'Source', 'Notes'], axis=1)\n",
    "arcades = pd.read_csv(path + 'Number_of_video_games_arcades_170310.csv').drop(\n",
    "    ['Date', 'Per capita', 'Source', 'Notes'], axis=1)\n",
    "restau_per_ca = pd.read_csv(path + 'Number_of_restaurants_per_100.000_population_170908.csv').drop(\n",
    "    ['Date', 'Per capita', 'Source', 'Notes'], axis=1)\n",
    "tourist_per_cent = pd.read_csv(path +'Number_of_other_Heritage_Historical_sites_170908.csv').drop(\n",
    "    ['Date', 'Per capita', 'Source', 'Notes'], axis=1)\n",
    "bars = pd.read_csv(path + 'Number_of_bars_170908.csv').drop(\n",
    "    ['Date', 'Per capita', 'Source', 'Notes'], axis=1)\n",
    "nightclubs = pd.read_csv(path + 'Night_Clubs,_Discos_and_Dance_Halls_170908.csv').drop(\n",
    "    ['Date', 'Per capita', 'Source', 'Notes'], axis=1)\n",
    "bars_percent = pd.read_csv(path + 'Number_of_bars_per_100,000_population_170912.csv').drop(\n",
    "    ['Date', 'Per capita', 'Source', 'Notes'], axis=1)\n"
   ]
  },
  {
   "cell_type": "code",
   "execution_count": 6,
   "metadata": {
    "collapsed": true
   },
   "outputs": [],
   "source": [
    "city_countryID = {\n",
    "            'Amsterdam' : 'NLD', \n",
    "            'Austin' : 'USA',\n",
    "             'Berlin' : 'DEU',\n",
    "             'Bogotá': 'COL',\n",
    "           'Brussels': 'BEL',\n",
    "       'Buenos Aires': 'ARG',\n",
    "              'Dakar': 'SEN',\n",
    "              'Dubai': 'ARE',\n",
    "          'Edinburgh': 'GBR',\n",
    "          'Hong Kong': 'CHN',\n",
    "            'Hong kong': 'CHN',\n",
    "          'Istanbul': 'TUR',\n",
    "      'Johannesburg': 'ZAF',\n",
    "            'London': 'GBR',\n",
    "       'Los Angeles': 'USA',\n",
    "            'Madrid': 'ESP',\n",
    "         'Melbourne': 'AUS',\n",
    "          'Montréal': 'CAN',\n",
    "            'Moscow': 'RUS',\n",
    "            'Mumbai': 'IND',\n",
    "          'New York': 'USA',\n",
    "             'Paris': 'FRA',\n",
    "            'Rome' : 'ITA',\n",
    "    'Rio de Janeiro': 'BRA',\n",
    "     'San Francisco': 'USA',\n",
    "         'São Paulo': 'BRA',\n",
    "             'Seoul': 'KOR',\n",
    "          'Shanghai': 'CHN',\n",
    "          'Shenzhen': 'CHN',\n",
    "         'Singapore': None,\n",
    "         'Stockholm': 'SWE',\n",
    "            'Sydney': 'AUS',\n",
    "            'Taipei': 'TWN',\n",
    "             'Tokyo': 'JPN',\n",
    "           'Toronto': 'CAN',\n",
    "            'Vienna': 'AUT',\n",
    "            'Warsaw': 'POL'\n",
    "}"
   ]
  },
  {
   "cell_type": "code",
   "execution_count": 11,
   "metadata": {
    "collapsed": true
   },
   "outputs": [],
   "source": [
    "arcades['id'] = arcades['City'].apply(lambda x: city_countryID[x])"
   ]
  },
  {
   "cell_type": "code",
   "execution_count": 12,
   "metadata": {},
   "outputs": [
    {
     "data": {
      "text/plain": [
       "'SWE'"
      ]
     },
     "execution_count": 12,
     "metadata": {},
     "output_type": "execute_result"
    }
   ],
   "source": [
    "city_countryID['Stockholm']"
   ]
  },
  {
   "cell_type": "code",
   "execution_count": 13,
   "metadata": {},
   "outputs": [
    {
     "data": {
      "text/html": [
       "<div>\n",
       "<style>\n",
       "    .dataframe thead tr:only-child th {\n",
       "        text-align: right;\n",
       "    }\n",
       "\n",
       "    .dataframe thead th {\n",
       "        text-align: left;\n",
       "    }\n",
       "\n",
       "    .dataframe tbody tr th {\n",
       "        vertical-align: top;\n",
       "    }\n",
       "</style>\n",
       "<table border=\"1\" class=\"dataframe\">\n",
       "  <thead>\n",
       "    <tr style=\"text-align: right;\">\n",
       "      <th></th>\n",
       "      <th>City</th>\n",
       "      <th>Figure</th>\n",
       "      <th>id</th>\n",
       "    </tr>\n",
       "  </thead>\n",
       "  <tbody>\n",
       "    <tr>\n",
       "      <th>0</th>\n",
       "      <td>Amsterdam</td>\n",
       "      <td>107</td>\n",
       "      <td>NLD</td>\n",
       "    </tr>\n",
       "    <tr>\n",
       "      <th>1</th>\n",
       "      <td>Austin</td>\n",
       "      <td>5</td>\n",
       "      <td>USA</td>\n",
       "    </tr>\n",
       "    <tr>\n",
       "      <th>2</th>\n",
       "      <td>Dakar</td>\n",
       "      <td>2</td>\n",
       "      <td>SEN</td>\n",
       "    </tr>\n",
       "    <tr>\n",
       "      <th>3</th>\n",
       "      <td>Edinburgh</td>\n",
       "      <td>11</td>\n",
       "      <td>GBR</td>\n",
       "    </tr>\n",
       "    <tr>\n",
       "      <th>4</th>\n",
       "      <td>Hong Kong</td>\n",
       "      <td>211</td>\n",
       "      <td>CHN</td>\n",
       "    </tr>\n",
       "    <tr>\n",
       "      <th>5</th>\n",
       "      <td>Istanbul</td>\n",
       "      <td>18</td>\n",
       "      <td>TUR</td>\n",
       "    </tr>\n",
       "    <tr>\n",
       "      <th>6</th>\n",
       "      <td>Johannesburg</td>\n",
       "      <td>11</td>\n",
       "      <td>ZAF</td>\n",
       "    </tr>\n",
       "    <tr>\n",
       "      <th>7</th>\n",
       "      <td>London</td>\n",
       "      <td>48</td>\n",
       "      <td>GBR</td>\n",
       "    </tr>\n",
       "    <tr>\n",
       "      <th>8</th>\n",
       "      <td>Los Angeles</td>\n",
       "      <td>41</td>\n",
       "      <td>USA</td>\n",
       "    </tr>\n",
       "    <tr>\n",
       "      <th>9</th>\n",
       "      <td>Madrid</td>\n",
       "      <td>3</td>\n",
       "      <td>ESP</td>\n",
       "    </tr>\n",
       "    <tr>\n",
       "      <th>10</th>\n",
       "      <td>Melbourne</td>\n",
       "      <td>14</td>\n",
       "      <td>AUS</td>\n",
       "    </tr>\n",
       "    <tr>\n",
       "      <th>11</th>\n",
       "      <td>Montréal</td>\n",
       "      <td>4</td>\n",
       "      <td>CAN</td>\n",
       "    </tr>\n",
       "    <tr>\n",
       "      <th>12</th>\n",
       "      <td>Mumbai</td>\n",
       "      <td>278</td>\n",
       "      <td>IND</td>\n",
       "    </tr>\n",
       "    <tr>\n",
       "      <th>13</th>\n",
       "      <td>New York</td>\n",
       "      <td>32</td>\n",
       "      <td>USA</td>\n",
       "    </tr>\n",
       "    <tr>\n",
       "      <th>14</th>\n",
       "      <td>Paris</td>\n",
       "      <td>11</td>\n",
       "      <td>FRA</td>\n",
       "    </tr>\n",
       "    <tr>\n",
       "      <th>15</th>\n",
       "      <td>San Francisco</td>\n",
       "      <td>16</td>\n",
       "      <td>USA</td>\n",
       "    </tr>\n",
       "    <tr>\n",
       "      <th>16</th>\n",
       "      <td>Rio de Janeiro</td>\n",
       "      <td>6</td>\n",
       "      <td>BRA</td>\n",
       "    </tr>\n",
       "    <tr>\n",
       "      <th>17</th>\n",
       "      <td>Seoul</td>\n",
       "      <td>227</td>\n",
       "      <td>KOR</td>\n",
       "    </tr>\n",
       "    <tr>\n",
       "      <th>18</th>\n",
       "      <td>Shanghai</td>\n",
       "      <td>797</td>\n",
       "      <td>CHN</td>\n",
       "    </tr>\n",
       "    <tr>\n",
       "      <th>19</th>\n",
       "      <td>Shenzhen</td>\n",
       "      <td>240</td>\n",
       "      <td>CHN</td>\n",
       "    </tr>\n",
       "    <tr>\n",
       "      <th>20</th>\n",
       "      <td>Singapore</td>\n",
       "      <td>17</td>\n",
       "      <td>None</td>\n",
       "    </tr>\n",
       "    <tr>\n",
       "      <th>21</th>\n",
       "      <td>Stockholm</td>\n",
       "      <td>0</td>\n",
       "      <td>SWE</td>\n",
       "    </tr>\n",
       "    <tr>\n",
       "      <th>22</th>\n",
       "      <td>Sydney</td>\n",
       "      <td>6</td>\n",
       "      <td>AUS</td>\n",
       "    </tr>\n",
       "    <tr>\n",
       "      <th>23</th>\n",
       "      <td>Taipei</td>\n",
       "      <td>54</td>\n",
       "      <td>TWN</td>\n",
       "    </tr>\n",
       "    <tr>\n",
       "      <th>24</th>\n",
       "      <td>Tokyo</td>\n",
       "      <td>509</td>\n",
       "      <td>JPN</td>\n",
       "    </tr>\n",
       "    <tr>\n",
       "      <th>25</th>\n",
       "      <td>Toronto</td>\n",
       "      <td>13</td>\n",
       "      <td>CAN</td>\n",
       "    </tr>\n",
       "  </tbody>\n",
       "</table>\n",
       "</div>"
      ],
      "text/plain": [
       "              City  Figure    id\n",
       "0        Amsterdam     107   NLD\n",
       "1           Austin       5   USA\n",
       "2            Dakar       2   SEN\n",
       "3        Edinburgh      11   GBR\n",
       "4        Hong Kong     211   CHN\n",
       "5         Istanbul      18   TUR\n",
       "6     Johannesburg      11   ZAF\n",
       "7           London      48   GBR\n",
       "8      Los Angeles      41   USA\n",
       "9           Madrid       3   ESP\n",
       "10       Melbourne      14   AUS\n",
       "11        Montréal       4   CAN\n",
       "12          Mumbai     278   IND\n",
       "13        New York      32   USA\n",
       "14           Paris      11   FRA\n",
       "15   San Francisco      16   USA\n",
       "16  Rio de Janeiro       6   BRA\n",
       "17           Seoul     227   KOR\n",
       "18        Shanghai     797   CHN\n",
       "19        Shenzhen     240   CHN\n",
       "20       Singapore      17  None\n",
       "21       Stockholm       0   SWE\n",
       "22          Sydney       6   AUS\n",
       "23          Taipei      54   TWN\n",
       "24           Tokyo     509   JPN\n",
       "25         Toronto      13   CAN"
      ]
     },
     "execution_count": 13,
     "metadata": {},
     "output_type": "execute_result"
    }
   ],
   "source": [
    "arcades"
   ]
  },
  {
   "cell_type": "code",
   "execution_count": 4,
   "metadata": {
    "collapsed": true
   },
   "outputs": [],
   "source": [
    "import pickle"
   ]
  },
  {
   "cell_type": "code",
   "execution_count": 189,
   "metadata": {
    "collapsed": true
   },
   "outputs": [],
   "source": [
    "#pickle.dump(unesco, open('unesco_df.pkl', 'wb'))\n",
    "#pickle.dump(heritage, open('heritage_df.pkl', 'wb'))\n",
    "#pickle.dump(museums, open('museums_df.pkl', 'wb'))\n",
    "#pickle.dump(parks_percent, open('parks_percent_df.pkl', 'wb'))\n",
    "#pickle.dump(restau_per_ca, open('restau_per_ca_df.pkl', 'wb'))\n",
    "#pickle.dump(tourist_per_cent, open('tourist_per_cent_df.pkl', 'wb'))\n",
    "#pickle.dump(bars, open('bars_df.pkl', 'wb'))\n",
    "#pickle.dump(nightclubs, open('nightclubs_df.pkl', 'wb'))\n",
    "#pickle.dump(bars_percent, open('bars_percent_df.pkl', 'wb'))\n",
    "#pickle.dump(arcades, open('arcades_df.pkl', 'wb'))\n",
    "#pickle.dump(ids, open('ids_df.pkl', 'wb'))"
   ]
  },
  {
   "cell_type": "code",
   "execution_count": 14,
   "metadata": {},
   "outputs": [
    {
     "ename": "NameError",
     "evalue": "name 'pickle' is not defined",
     "output_type": "error",
     "traceback": [
      "\u001b[0;31m---------------------------------------------------------------------------\u001b[0m",
      "\u001b[0;31mNameError\u001b[0m                                 Traceback (most recent call last)",
      "\u001b[0;32m<ipython-input-14-7e53f37b739a>\u001b[0m in \u001b[0;36m<module>\u001b[0;34m()\u001b[0m\n\u001b[0;32m----> 1\u001b[0;31m \u001b[0munesco\u001b[0m\u001b[0;34m=\u001b[0m \u001b[0mpickle\u001b[0m\u001b[0;34m.\u001b[0m\u001b[0mload\u001b[0m\u001b[0;34m(\u001b[0m\u001b[0mopen\u001b[0m\u001b[0;34m(\u001b[0m\u001b[0;34m'pickles/unesco_df.pkl'\u001b[0m\u001b[0;34m,\u001b[0m \u001b[0;34m'rb'\u001b[0m\u001b[0;34m)\u001b[0m\u001b[0;34m)\u001b[0m\u001b[0;34m\u001b[0m\u001b[0m\n\u001b[0m\u001b[1;32m      2\u001b[0m \u001b[0mheritage\u001b[0m\u001b[0;34m=\u001b[0m \u001b[0mpickle\u001b[0m\u001b[0;34m.\u001b[0m\u001b[0mload\u001b[0m\u001b[0;34m(\u001b[0m\u001b[0mopen\u001b[0m\u001b[0;34m(\u001b[0m\u001b[0;34m'pickles/heritage_df.pkl'\u001b[0m\u001b[0;34m,\u001b[0m \u001b[0;34m'rb'\u001b[0m\u001b[0;34m)\u001b[0m\u001b[0;34m)\u001b[0m\u001b[0;34m\u001b[0m\u001b[0m\n\u001b[1;32m      3\u001b[0m \u001b[0mmuseums\u001b[0m\u001b[0;34m=\u001b[0m \u001b[0mpickle\u001b[0m\u001b[0;34m.\u001b[0m\u001b[0mload\u001b[0m\u001b[0;34m(\u001b[0m\u001b[0mopen\u001b[0m\u001b[0;34m(\u001b[0m\u001b[0;34m'pickles/museums_df.pkl'\u001b[0m\u001b[0;34m,\u001b[0m \u001b[0;34m'rb'\u001b[0m\u001b[0;34m)\u001b[0m\u001b[0;34m)\u001b[0m\u001b[0;34m\u001b[0m\u001b[0m\n\u001b[1;32m      4\u001b[0m \u001b[0mparks_percent\u001b[0m\u001b[0;34m=\u001b[0m \u001b[0mpickle\u001b[0m\u001b[0;34m.\u001b[0m\u001b[0mload\u001b[0m\u001b[0;34m(\u001b[0m\u001b[0mopen\u001b[0m\u001b[0;34m(\u001b[0m\u001b[0;34m'pickles/parks_percent_df.pkl'\u001b[0m\u001b[0;34m,\u001b[0m \u001b[0;34m'rb'\u001b[0m\u001b[0;34m)\u001b[0m\u001b[0;34m)\u001b[0m\u001b[0;34m\u001b[0m\u001b[0m\n\u001b[1;32m      5\u001b[0m \u001b[0mrestau_per_ca\u001b[0m\u001b[0;34m=\u001b[0m \u001b[0mpickle\u001b[0m\u001b[0;34m.\u001b[0m\u001b[0mload\u001b[0m\u001b[0;34m(\u001b[0m\u001b[0mopen\u001b[0m\u001b[0;34m(\u001b[0m\u001b[0;34m'pickles/restau_per_ca_df.pkl'\u001b[0m\u001b[0;34m,\u001b[0m \u001b[0;34m'rb'\u001b[0m\u001b[0;34m)\u001b[0m\u001b[0;34m)\u001b[0m\u001b[0;34m\u001b[0m\u001b[0m\n",
      "\u001b[0;31mNameError\u001b[0m: name 'pickle' is not defined"
     ]
    }
   ],
   "source": [
    "unesco= pickle.load(open('pickles/unesco_df.pkl', 'rb'))\n",
    "heritage= pickle.load(open('pickles/heritage_df.pkl', 'rb'))\n",
    "museums= pickle.load(open('pickles/museums_df.pkl', 'rb'))\n",
    "parks_percent= pickle.load(open('pickles/parks_percent_df.pkl', 'rb'))\n",
    "restau_per_ca= pickle.load(open('pickles/restau_per_ca_df.pkl', 'rb'))\n",
    "tourist_per_cent= pickle.load(open('pickles/tourist_per_cent_df.pkl', 'rb'))\n",
    "bars= pickle.load(open('pickles/bars_df.pkl', 'rb'))\n",
    "nightclubs= pickle.load(open('pickles/nightclubs_df.pkl', 'rb'))\n",
    "bars_percent= pickle.load(open('pickles/bars_percent_df.pkl', 'rb'))\n",
    "arcades= pickle.load(open('pickles/arcades_df.pkl', 'rb'))\n",
    "ids= pickle.load(open('pickles/ids_df.pkl', 'rb'))"
   ]
  },
  {
   "cell_type": "code",
   "execution_count": 7,
   "metadata": {
    "collapsed": true
   },
   "outputs": [],
   "source": [
    "ids = pd.read_csv('idCountry.csv')"
   ]
  },
  {
   "cell_type": "code",
   "execution_count": 18,
   "metadata": {
    "collapsed": true
   },
   "outputs": [],
   "source": [
    "full = pd.merge(ids, bars, how='outer').fillna(0)"
   ]
  },
  {
   "cell_type": "code",
   "execution_count": 19,
   "metadata": {},
   "outputs": [
    {
     "data": {
      "text/plain": [
       "0           0\n",
       "1           0\n",
       "2           0\n",
       "3           0\n",
       "4      11,189\n",
       "5           0\n",
       "6           0\n",
       "7           0\n",
       "8         713\n",
       "9         791\n",
       "10          0\n",
       "11          0\n",
       "12          0\n",
       "13      1,743\n",
       "14          0\n",
       "15          0\n",
       "16          0\n",
       "17          0\n",
       "18          0\n",
       "19          0\n",
       "20          0\n",
       "21          0\n",
       "22          0\n",
       "23          0\n",
       "24     12,072\n",
       "25         15\n",
       "26          0\n",
       "27          0\n",
       "28          0\n",
       "29          0\n",
       "        ...  \n",
       "160         0\n",
       "161         0\n",
       "162         0\n",
       "163         0\n",
       "164         0\n",
       "165         0\n",
       "166         0\n",
       "167         0\n",
       "168         0\n",
       "169         0\n",
       "170       304\n",
       "171       234\n",
       "172         0\n",
       "173         0\n",
       "174         0\n",
       "175         0\n",
       "176       199\n",
       "177     3,248\n",
       "178     2,657\n",
       "179       377\n",
       "180         0\n",
       "181         0\n",
       "182         0\n",
       "183         0\n",
       "184         0\n",
       "185         0\n",
       "186         0\n",
       "187         0\n",
       "188         0\n",
       "189       660\n",
       "Name: Figure, Length: 190, dtype: object"
      ]
     },
     "execution_count": 19,
     "metadata": {},
     "output_type": "execute_result"
    }
   ],
   "source": [
    "full['Figure']"
   ]
  },
  {
   "cell_type": "code",
   "execution_count": 20,
   "metadata": {},
   "outputs": [
    {
     "data": {
      "text/plain": [
       "'0,0\\n1,0\\n2,0\\n3,0\\n4,\"11,189\"\\n5,0\\n6,0\\n7,0\\n8,713\\n9,791\\n10,0\\n11,0\\n12,0\\n13,\"1,743\"\\n14,0\\n15,0\\n16,0\\n17,0\\n18,0\\n19,0\\n20,0\\n21,0\\n22,0\\n23,0\\n24,\"12,072\"\\n25,15\\n26,0\\n27,0\\n28,0\\n29,0\\n30,\"1,287\"\\n31,957\\n32,0\\n33,0\\n34,\"1,300\"\\n35,\"2,693\"\\n36,\"1,434\"\\n37,0\\n38,0\\n39,0\\n40,0\\n41,0\\n42,0\\n43,0\\n44,0\\n45,0\\n46,0\\n47,0\\n48,\"1,247\"\\n49,0\\n50,0\\n51,0\\n52,0\\n53,0\\n54,0\\n55,0\\n56,\"5,877\"\\n57,0\\n58,0\\n59,0\\n60,0\\n61,0\\n62,\"3,263\"\\n63,0\\n64,451\\n65,\"2,694\"\\n66,0\\n67,0\\n68,0\\n69,0\\n70,0\\n71,0\\n72,0\\n73,0\\n74,0\\n75,0\\n76,0\\n77,0\\n78,0\\n79,0\\n80,0\\n81,0\\n82,543\\n83,0\\n84,0\\n85,0\\n86,0\\n87,0\\n88,0\\n89,0\\n90,0\\n91,\"28,543\"\\n92,0\\n93,0\\n94,0\\n95,0\\n96,\"18,829\"\\n97,0\\n98,0\\n99,0\\n100,0\\n101,0\\n102,0\\n103,0\\n104,0\\n105,0\\n106,0\\n107,0\\n108,0\\n109,0\\n110,0\\n111,0\\n112,0\\n113,0\\n114,0\\n115,0\\n116,0\\n117,0\\n118,0\\n119,0\\n120,0\\n121,0\\n122,0\\n123,0\\n124,0\\n125,0\\n126,0\\n127,\"1,516\"\\n128,0\\n129,0\\n130,0\\n131,0\\n132,0\\n133,0\\n134,0\\n135,0\\n136,0\\n137,0\\n138,0\\n139,0\\n140,0\\n141,0\\n142,0\\n143,0\\n144,581\\n145,0\\n146,0\\n147,0\\n148,0\\n149,0\\n150,0\\n151,0\\n152,0\\n153,0\\n154,0\\n155,0\\n156,0\\n157,0\\n158,0\\n159,414\\n160,0\\n161,0\\n162,0\\n163,0\\n164,0\\n165,0\\n166,0\\n167,0\\n168,0\\n169,0\\n170,304\\n171,234\\n172,0\\n173,0\\n174,0\\n175,0\\n176,199\\n177,\"3,248\"\\n178,\"2,657\"\\n179,377\\n180,0\\n181,0\\n182,0\\n183,0\\n184,0\\n185,0\\n186,0\\n187,0\\n188,0\\n189,660\\n'"
      ]
     },
     "execution_count": 20,
     "metadata": {},
     "output_type": "execute_result"
    }
   ],
   "source": [
    "full['Figure'].to_csv()"
   ]
  },
  {
   "cell_type": "code",
   "execution_count": 83,
   "metadata": {
    "collapsed": true
   },
   "outputs": [],
   "source": [
    "name2id = dict(ids.set_index('name'))\n",
    "temps = pd.read_csv('temp_countries.csv', sep=';' )\n",
    "temps['temp'] =  temps['temp'].apply(lambda x: x.split('\\t')[-1] )\n",
    "temps['temp'] =  temps['temp'].apply(float)\n",
    "temps['id'] = temps['country'].apply(lambda x: name2id['id'][x] if x in name2id['id'] else None)"
   ]
  },
  {
   "cell_type": "code",
   "execution_count": 85,
   "metadata": {},
   "outputs": [
    {
     "data": {
      "text/plain": [
       "'id,temp\\nAFG,12.6\\nALB,11.4\\nDZA,22.5\\nAGO,21.55\\nARG,14.8\\nARM,7.15\\nAUS,21.65\\nAUT,6.35\\nAZE,11.95\\nBGD,25.0\\nBLR,6.15\\nBEL,9.55\\nBLZ,25.3\\nBEN,27.55\\nBTN,7.4\\nBOL,21.55\\nBWA,21.5\\nBRA,24.95\\nBRN,26.85\\nBGR,10.55\\nBFA,28.25\\nBDI,19.8\\nKHM,26.8\\nCMR,24.6\\nCAN,-5.35\\nCAF,24.9\\nTCD,26.55\\nCHL,8.45\\nCHN,6.95\\nCOL,24.5\\nCRI,24.8\\nHRV,10.9\\nCUB,25.2\\nCYP,18.45\\nCZE,7.55\\nDNK,7.5\\nDJI,28.0\\nDOM,24.55\\nECU,21.85\\nEGY,22.1\\nSLV,24.45\\nERI,25.5\\nEST,5.1\\nETH,22.2\\nFJI,24.4\\nFIN,1.7\\nFRA,10.7\\nGAB,25.05\\nGMB,27.5\\nGEO,5.8\\nDEU,8.5\\nGHA,27.2\\nGRC,15.4\\nGTM,23.45\\nGIN,25.7\\nGUY,26.0\\nHTI,24.9\\nHND,23.5\\nHUN,9.75\\nISL,1.75\\nIND,23.65\\nIDN,25.85\\nIRN,17.25\\nIRQ,21.4\\nIRL,9.3\\nISR,19.2\\nITA,13.45\\nCIV,26.35\\nJAM,24.95\\nJPN,11.15\\nJOR,18.3\\nKAZ,6.4\\nKEN,24.75\\nKWT,25.35\\nKGZ,1.55\\nLAO,22.8\\nLVA,5.6\\nLBN,16.4\\nLSO,11.85\\nLBR,25.3\\nLBY,21.8\\nLTU,6.2\\nLUX,8.65\\nMKD,9.8\\nMDG,22.65\\nMWI,21.9\\nMYS,25.4\\nMLI,28.25\\nMLT,19.2\\nMRT,27.65\\nMEX,21.0\\nMDA,9.45\\nMNG,-0.7\\nMNE,10.55\\nMAR,17.1\\nMOZ,23.8\\nMMR,13.05\\nNAM,19.95\\nNPL,8.1\\nNLD,9.25\\nNZL,10.55\\nNIC,24.9\\nNER,27.15\\nNGA,26.8\\nNOR,1.5\\nOMN,25.6\\nPAK,20.2\\nPAN,25.4\\nPNG,25.25\\nPRY,23.55\\nPER,19.6\\nPHL,25.85\\nPOL,7.85\\nPRT,15.15\\nQAT,27.15\\nROU,8.8\\nRUS,-5.1\\nRWA,17.85\\nSAU,24.65\\nSEN,27.85\\nSLE,26.05\\nSVK,6.8\\nSVN,8.9\\nSLB,25.65\\nSOM,27.05\\nESP,13.3\\nLKA,26.95\\nSDN,26.9\\nSUR,25.7\\nSWZ,21.4\\nSWE,2.1\\nCHE,5.5\\nSYR,17.75\\nTJK,2.0\\nTHA,26.3\\nTGO,27.15\\nTTO,25.75\\nTUN,19.2\\nTUR,11.1\\nTKM,15.1\\nARE,27.0\\nGBR,8.45\\n'"
      ]
     },
     "execution_count": 85,
     "metadata": {},
     "output_type": "execute_result"
    }
   ],
   "source": [
    "temps = temps.dropna().drop('country', axis=1).set_index('id')\n",
    "temps.to_csv()"
   ]
  },
  {
   "cell_type": "code",
   "execution_count": 71,
   "metadata": {},
   "outputs": [
    {
     "data": {
      "text/plain": [
       "'ALB'"
      ]
     },
     "execution_count": 71,
     "metadata": {},
     "output_type": "execute_result"
    }
   ],
   "source": []
  },
  {
   "cell_type": "code",
   "execution_count": null,
   "metadata": {
    "collapsed": true
   },
   "outputs": [],
   "source": []
  }
 ],
 "metadata": {
  "kernelspec": {
   "display_name": "Python 3",
   "language": "python",
   "name": "python3"
  },
  "language_info": {
   "codemirror_mode": {
    "name": "ipython",
    "version": 3
   },
   "file_extension": ".py",
   "mimetype": "text/x-python",
   "name": "python",
   "nbconvert_exporter": "python",
   "pygments_lexer": "ipython3",
   "version": "3.6.1"
  }
 },
 "nbformat": 4,
 "nbformat_minor": 2
}
